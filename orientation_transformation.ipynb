{
 "cells": [
  {
   "cell_type": "code",
   "execution_count": 34,
   "metadata": {},
   "outputs": [],
   "source": [
    "import pandas as pd\n",
    "from scipy.spatial.transform import Rotation\n",
    "import os\n",
    "\n",
    "data_folders = [\"data/20240616\"]\n",
    "mode = \"quat-to-eul\" # \"eul-to-quat\"\n",
    "\n",
    "def load_dataframes(folder):\n",
    "    for file in os.listdir(folder):\n",
    "        if file.endswith(\".csv\"):\n",
    "            path = os.path.join(folder, file)\n",
    "            with open(path, \"r\") as f:\n",
    "                header_lines = [next(f) for _ in range(11)]\n",
    "            yield file, header_lines, pd.read_csv(path, skiprows=11)\n",
    "\n",
    "def eul_to_quat(x, y, z):\n",
    "    return Rotation.from_euler('xyz', [x, y, z], degrees=True).as_quat(scalar_first=True)\n",
    "\n",
    "def quat_to_eul(w, x, y, z):\n",
    "    return Rotation.from_quat([w, x, y, z], scalar_first=True).as_euler('xyz', degrees=True)\n",
    "\n",
    "def convert_dataframe(df, mode):\n",
    "    if mode == \"eul-to-quat\":\n",
    "        df[[\"Quat_W\",\"Quat_X\",\"Quat_Y\",\"Quat_Z\"]] = df.apply(lambda x: eul_to_quat(x[\"Euler_X\"], x[\"Euler_Y\"], x[\"Euler_Z\"]), axis=1, result_type=\"expand\")\n",
    "        df = df.drop(['Euler_X', 'Euler_Y', 'Euler_Z'], axis=1)\n",
    "    elif mode == \"quat-to-eul\":\n",
    "        df[[\"Euler_X\",\"Euler_Y\",\"Euler_Z\"]] = df.apply(lambda x: quat_to_eul(x[\"Quat_W\"], x[\"Quat_X\"], x[\"Quat_Y\"], x[\"Quat_Z\"]), axis=1, result_type=\"expand\")\n",
    "        df = df.drop(['Quat_W', 'Quat_X', 'Quat_Y', 'Quat_Z'], axis=1)\n",
    "    return df\n",
    "\n",
    "for folder in data_folders:\n",
    "    new_folder = folder + \"_\" + mode\n",
    "    os.mkdir(new_folder)\n",
    "    subfolders = os.listdir(folder)\n",
    "    subfolders.sort(key=lambda x: x.split(\"_\")[1])\n",
    "    for subfolder in subfolders:\n",
    "        if subfolder.startswith(\"2024\"):\n",
    "            path = os.path.join(folder, subfolder)\n",
    "            new_path = os.path.join(new_folder, subfolder)\n",
    "            os.mkdir(new_path)\n",
    "            for file, header_lines, df in load_dataframes(path):\n",
    "                csv_path = os.path.join(new_path, file)\n",
    "                with open(csv_path, \"w\") as f:\n",
    "                    for line in header_lines:\n",
    "                        f.write(line)\n",
    "                    converted_df = convert_dataframe(df, mode)\n",
    "                    converted_df.to_csv(f, index=False)\n"
   ]
  },
  {
   "cell_type": "code",
   "execution_count": 35,
   "metadata": {},
   "outputs": [
    {
     "name": "stdout",
     "output_type": "stream",
     "text": [
      "[ 0.70105738  0.56098553  0.43045933 -0.09229596]\n",
      "[90. 45. 30.]\n"
     ]
    }
   ],
   "source": [
    "from scipy.spatial.transform import Rotation\n",
    "\n",
    "# Create a rotation object from Euler angles specifying axes of rotation\n",
    "rot = Rotation.from_euler('xyz', [90, 45, 30], degrees=True)\n",
    "\n",
    "# Convert to quaternions and print\n",
    "rot_quat = rot.as_quat(scalar_first=True)\n",
    "print(rot_quat)\n",
    "\n",
    "# create a rotation object from the calculated quaternions\n",
    "rot = Rotation.from_quat(rot_quat, scalar_first=True)\n",
    "\n",
    "# convert back to euler and print\n",
    "rot_euler = rot.as_euler('xyz', degrees=True)\n",
    "print(rot_euler) # should be input values [90, 45, 30]"
   ]
  }
 ],
 "metadata": {
  "kernelspec": {
   "display_name": "base",
   "language": "python",
   "name": "python3"
  },
  "language_info": {
   "codemirror_mode": {
    "name": "ipython",
    "version": 3
   },
   "file_extension": ".py",
   "mimetype": "text/x-python",
   "name": "python",
   "nbconvert_exporter": "python",
   "pygments_lexer": "ipython3",
   "version": "3.10.14"
  }
 },
 "nbformat": 4,
 "nbformat_minor": 2
}
